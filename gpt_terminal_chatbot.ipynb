{
 "cells": [
  {
   "cell_type": "code",
   "execution_count": null,
   "metadata": {},
   "outputs": [],
   "source": [
    "import openai\n",
    "from openai import ChatCompletion\n",
    "\n",
    "openai.api_key = \"\"\n",
    "\n",
    "completion = ChatCompletion.create(model=\"gpt-3.5-turbo\", messages=[{\"role\": \"user\", \"content\": \"Give me 3 ideas for apps I could build with openai apis \"}])\n",
    "print(completion.choices[0].message.content)"
   ]
  },
  {
   "cell_type": "code",
   "execution_count": null,
   "metadata": {},
   "outputs": [],
   "source": [
    "import openai\n",
    "from openai import ChatCompletion\n",
    "\n",
    "openai.api_key = \"\"\n",
    "\n",
    "messages = []\n",
    "system_msg = input(\"What type of chatbot would you like to create?\\n\")\n",
    "messages.append({\"role\": \"system\", \"content\": system_msg})\n",
    "\n",
    "print(\"Your new assistant is ready!\")\n",
    "while input != \"quit()\":\n",
    "    message = input()\n",
    "    messages.append({\"role\": \"user\", \"content\": message})\n",
    "    response = ChatCompletion.create(\n",
    "        model=\"gpt-3.5-turbo\",\n",
    "        messages=messages)\n",
    "    reply = response[\"choices\"][0][\"message\"][\"content\"]\n",
    "    messages.append({\"role\": \"assistant\", \"content\": reply})\n",
    "    print(\"\\n\" + reply + \"\\n\")"
   ]
  },
  {
   "cell_type": "code",
   "execution_count": null,
   "metadata": {},
   "outputs": [],
   "source": [
    "import openai\n",
    "from openai import ChatCompletion\n",
    "import gradio\n",
    "\n",
    "openai.api_key = \"\"\n",
    "\n",
    "messages = [{\"role\": \"system\", \"content\": \"You are a financial experts that specializes in real estate investment and negotiation\"}]\n",
    "\n",
    "def CustomChatGPT(user_input):\n",
    "    messages.append({\"role\": \"user\", \"content\": user_input})\n",
    "    response = ChatCompletion.create(\n",
    "        model = \"gpt-3.5-turbo\",\n",
    "        messages = messages\n",
    "    )\n",
    "    ChatGPT_reply = response[\"choices\"][0][\"message\"][\"content\"]\n",
    "    messages.append({\"role\": \"assistant\", \"content\": ChatGPT_reply})\n",
    "    return ChatGPT_reply\n",
    "\n",
    "demo = gradio.Interface(fn=CustomChatGPT, inputs = \"text\", outputs = \"text\", title = \"Real Estate Pro\")\n",
    "\n",
    "demo.launch(share=True)\n",
    "     "
   ]
  }
 ],
 "metadata": {
  "language_info": {
   "name": "python"
  }
 },
 "nbformat": 4,
 "nbformat_minor": 2
}
